{
 "cells": [
  {
   "cell_type": "markdown",
   "metadata": {},
   "source": [
    "According to [this document](https://docs.sympy.org/latest/modules/utilities/lambdify.html), the module, `Lambdify`, \n",
    "\n",
    "> provides convenient functions to transform sympy expressions to lambda functions which can be used to calculate numerical values very fast.\n",
    "\n",
    "Here is a study to investigate elapsed time of `Lambdify`."
   ]
  },
  {
   "cell_type": "code",
   "execution_count": null,
   "metadata": {},
   "outputs": [],
   "source": [
    "from IPython.display import display\n",
    "\n",
    "from sympy import *\n",
    "import numpy as np"
   ]
  },
  {
   "cell_type": "markdown",
   "metadata": {},
   "source": [
    "Target functions are defined as follows:"
   ]
  },
  {
   "cell_type": "code",
   "execution_count": null,
   "metadata": {},
   "outputs": [],
   "source": [
    "def f_target(x, a):\n",
    "    \"\"\"\n",
    "    input:\n",
    "        x: array(n, )\n",
    "        a: array(4,)\n",
    "    output:\n",
    "        y: array(n,)\n",
    "    , where y[i] = sum(a[j] * dx[i] **(j+1), j = 0...3), i = 0 ... n-1\n",
    "    , dx[i] = x[i] - x[i-1], i = 1 ... n-1 \n",
    "    and dx[0] = x[0] - x[n-1].\n",
    "    \"\"\"\n",
    "    \n",
    "    dx = x - np.roll(x,1) # (n,)\n",
    "    X = np.stack((dx, dx**2, dx**3, dx**4), axis=-1) # (n,4)    \n",
    "    y = X @ a # (n,)\n",
    "    return y"
   ]
  },
  {
   "cell_type": "markdown",
   "metadata": {},
   "source": [
    "Reimplement the above function in the *non-vectorized* way"
   ]
  },
  {
   "cell_type": "code",
   "execution_count": null,
   "metadata": {},
   "outputs": [],
   "source": [
    "def f_target_nonvectorized(x, a):\n",
    "    \"\"\"\n",
    "    input:\n",
    "        x: array(n, )\n",
    "        a: array(4,)\n",
    "    output:\n",
    "        y: array(n,)\n",
    "    , where y[i] = sum(a[j] * dx[i] **(j+1), j = 0...3), i = 0 ... n-1\n",
    "    , dx[i] = x[i] - x[i-1], i = 1 ... n-1 \n",
    "    and dx[0] = x[0] - x[n-1].\n",
    "    \"\"\"\n",
    "    \n",
    "    n = x.shape[0]\n",
    "    m = a.shape[0]\n",
    "    y = np.zeros(n)\n",
    "    for i in range(n):\n",
    "        for j in range(m):\n",
    "            y[i] += a[j] * (x[i] - x[(i-1)%n])**(j+1)\n",
    "    return y"
   ]
  },
  {
   "cell_type": "markdown",
   "metadata": {},
   "source": [
    "Set an array size `n` and a polinomial function degree `m` as follows:"
   ]
  },
  {
   "cell_type": "code",
   "execution_count": null,
   "metadata": {},
   "outputs": [],
   "source": [
    "n = 2**5\n",
    "m = 4"
   ]
  },
  {
   "cell_type": "markdown",
   "metadata": {},
   "source": [
    "# Task 1:"
   ]
  },
  {
   "cell_type": "markdown",
   "metadata": {},
   "source": [
    "Measure elapsed time for running `f_target` and its non-vectorized implementation, `f_target_vectorized`, as bentchmark:"
   ]
  },
  {
   "cell_type": "code",
   "execution_count": null,
   "metadata": {},
   "outputs": [],
   "source": [
    "x = np.random.randn(n)\n",
    "a = np.random.randn(m)\n",
    "%timeit f_target(x, a)\n",
    "# 38.8 µs ± 3.55 µs per loop (mean ± std. dev. of 7 runs, 10000 loops each)\n",
    "%timeit f_target_nonvectorized(x, a)\n",
    "# 182 µs ± 14.1 µs per loop (mean ± std. dev. of 7 runs, 1000 loops each)"
   ]
  },
  {
   "cell_type": "markdown",
   "metadata": {},
   "source": [
    "Let define a symbolised expression of the target function, `f_target` and lambdify it:"
   ]
  },
  {
   "cell_type": "code",
   "execution_count": null,
   "metadata": {},
   "outputs": [],
   "source": [
    "x = np.array(symbols(\"x:%d\" % n))\n",
    "a = np.array(symbols(\"a:%d\" % m))\n",
    "exprs = np.array([expand(expr) for expr in f_target(x, a)])\n",
    "\n",
    "# display the expression of the first element as example:\n",
    "display(exprs[0])\n",
    "\n",
    "f_target_lambdified = lambdify((x,a), exprs, modules=\"numpy\")"
   ]
  },
  {
   "cell_type": "markdown",
   "metadata": {},
   "source": [
    "Run a sanitycheck:"
   ]
  },
  {
   "cell_type": "code",
   "execution_count": null,
   "metadata": {},
   "outputs": [],
   "source": [
    "x = np.random.randn(n)\n",
    "a = np.random.randn(m)\n",
    "y = f_target_lambdified(x, a)\n",
    "yTrue = f_target(x,a)\n",
    "\n",
    "assert np.all(np.isclose(yTrue, y))"
   ]
  },
  {
   "cell_type": "markdown",
   "metadata": {},
   "source": [
    "Measure elapsed time for running the *lamdified*  target function, `f_target_lambdified` to compare with the benchmark:"
   ]
  },
  {
   "cell_type": "code",
   "execution_count": null,
   "metadata": {},
   "outputs": [],
   "source": [
    "x = np.random.randn(n)\n",
    "a = np.random.randn(m)\n",
    "%timeit f_target_lambdified(x, a)\n",
    "# 333 µs ± 50.7 µs per loop (mean ± std. dev. of 7 runs, 1000 loops each)"
   ]
  },
  {
   "cell_type": "markdown",
   "metadata": {},
   "source": [
    "Findings:\n",
    "* Elapsed time measured in my environment shows that the lambdified `f_target` is slower than a vectorized one \n",
    "* and the time is doubled by the time of the non-vectorized implementation, `f_target_nonvectorized`."
   ]
  },
  {
   "cell_type": "markdown",
   "metadata": {},
   "source": [
    "# Task 2: how about apply a redefinition of lambdified target function?"
   ]
  },
  {
   "cell_type": "markdown",
   "metadata": {},
   "source": [
    "Investigate the case where symbolised expressions of the target function are *NOT* expanded:"
   ]
  },
  {
   "cell_type": "code",
   "execution_count": null,
   "metadata": {},
   "outputs": [],
   "source": [
    "x = np.array(symbols(\"x:%d\" % n))\n",
    "a = np.array(symbols(\"a:%d\" % m))\n",
    "exprs = np.array([expr for expr in f_target(x, a)])\n",
    "\n",
    "# display the expression of the first element as example:\n",
    "display(exprs[0])\n",
    "\n",
    "f_target_lambdified = lambdify((x,a), exprs, modules=\"numpy\")"
   ]
  },
  {
   "cell_type": "markdown",
   "metadata": {},
   "source": [
    "Measure elapsed time for running the *redefined* implementation:"
   ]
  },
  {
   "cell_type": "code",
   "execution_count": null,
   "metadata": {},
   "outputs": [],
   "source": [
    "x = np.random.randn(n)\n",
    "a = np.random.randn(m)\n",
    "%timeit f_target_lambdified(x, a)\n",
    "# 91.6 µs ± 3.95 µs per loop (mean ± std. dev. of 7 runs, 10000 loops each)"
   ]
  },
  {
   "cell_type": "markdown",
   "metadata": {},
   "source": [
    "Findings:\n",
    "* The elapsed time is still slower than the time of the vectorized implementation, `f_target`,\n",
    "* though, it's faster than the non-vectorized one,`f_target_vectorized`"
   ]
  },
  {
   "cell_type": "markdown",
   "metadata": {},
   "source": [
    "# Task 3: \n",
    "measure elapsed time for getting the jacobian of the target function:"
   ]
  },
  {
   "cell_type": "code",
   "execution_count": null,
   "metadata": {},
   "outputs": [],
   "source": [
    "x = np.array(symbols(\"x:%d\" % n))\n",
    "a = np.array(symbols(\"a:%d\" % m))\n",
    "jacobian_exprs = np.array([expr.diff(x[i]) for expr in f_target(x, a) for i in range(n)]).reshape(n,n)\n",
    "\n",
    "# display the expression of the first element as example:\n",
    "display(jacobian_exprs[0,0])\n",
    "\n",
    "jacobian_lambdified = lambdify((x,a), jacobian_exprs, modules=\"numpy\")"
   ]
  },
  {
   "cell_type": "markdown",
   "metadata": {},
   "source": [
    "Measure elapsed time for running a process of the calculation of jacobian, `jacobian_lambdified`:"
   ]
  },
  {
   "cell_type": "code",
   "execution_count": null,
   "metadata": {},
   "outputs": [],
   "source": [
    "x = np.random.randn(n)\n",
    "a = np.random.randn(m)\n",
    "%timeit jacobian_lambdified(x, a)\n",
    "# 230 µs ± 29.8 µs per loop (mean ± std. dev. of 7 runs, 1000 loops each)"
   ]
  },
  {
   "cell_type": "markdown",
   "metadata": {},
   "source": [
    "Findings:\n",
    "* Calculating a jacobian of the target function can take a bit longer doubled time than a single run of the (lambdified) target function"
   ]
  }
 ],
 "metadata": {
  "kernelspec": {
   "display_name": "Python 3",
   "language": "python",
   "name": "python3"
  },
  "language_info": {
   "codemirror_mode": {
    "name": "ipython",
    "version": 3
   },
   "file_extension": ".py",
   "mimetype": "text/x-python",
   "name": "python",
   "nbconvert_exporter": "python",
   "pygments_lexer": "ipython3",
   "version": "3.7.5"
  }
 },
 "nbformat": 4,
 "nbformat_minor": 2
}

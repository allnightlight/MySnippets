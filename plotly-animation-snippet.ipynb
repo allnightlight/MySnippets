{
 "cells": [
  {
   "cell_type": "markdown",
   "metadata": {},
   "source": [
    "# Example of animation\n",
    "\n",
    "## case 1: update bar charts every 1[s]"
   ]
  },
  {
   "cell_type": "code",
   "execution_count": null,
   "metadata": {},
   "outputs": [],
   "source": [
    "import numpy as np\n",
    "import plotly.graph_objects as go"
   ]
  },
  {
   "cell_type": "markdown",
   "metadata": {},
   "source": [
    "Define datasets to plot:"
   ]
  },
  {
   "cell_type": "code",
   "execution_count": null,
   "metadata": {},
   "outputs": [],
   "source": [
    "nBin = 3\n",
    "nFrame = 10\n",
    "\n",
    "def generateData():\n",
    "    x = \"a,b,c\".split(\",\")\n",
    "    for _ in range(nFrame):\n",
    "        yield dict(x = x, y = np.random.rand(nBin))"
   ]
  },
  {
   "cell_type": "markdown",
   "metadata": {},
   "source": [
    "Create an animation:\n",
    "1. Create bar charts objects for each datasets\n",
    "2. Create frames for each bar charts\n",
    "3. Define a layout specifying frame duration\n",
    "4. Create a figure object"
   ]
  },
  {
   "cell_type": "code",
   "execution_count": null,
   "metadata": {},
   "outputs": [],
   "source": [
    "obs = [go.Bar(**ds) for ds in generateData()]"
   ]
  },
  {
   "cell_type": "code",
   "execution_count": null,
   "metadata": {},
   "outputs": [],
   "source": [
    "frames = [go.Frame(data = [ob,]) for ob in obs]"
   ]
  },
  {
   "cell_type": "code",
   "execution_count": null,
   "metadata": {},
   "outputs": [],
   "source": [
    "frame_duration = 1000 # 1000[msec]\n",
    "layout=go.Layout(\n",
    "    #xaxis=dict(range=[-1, nBin], autorange=False),\n",
    "    yaxis=dict(range=[0, 1], autorange=False),\n",
    "    title=\"An example of bar charts\",\n",
    "    updatemenus=[dict(\n",
    "        type=\"buttons\",\n",
    "        buttons=[dict(label=\"Play\",\n",
    "                      method=\"animate\",\n",
    "                      args=[None, dict(frame = dict(duration = frame_duration))])])]\n",
    "    )"
   ]
  },
  {
   "cell_type": "code",
   "execution_count": null,
   "metadata": {},
   "outputs": [],
   "source": [
    "fig = go.Figure(data = [obs[0],], frames = frames, layout = layout)\n",
    "fig.show()"
   ]
  },
  {
   "cell_type": "markdown",
   "metadata": {},
   "source": [
    "## case 2: update bar charts accompanying with line charts"
   ]
  },
  {
   "cell_type": "code",
   "execution_count": null,
   "metadata": {},
   "outputs": [],
   "source": [
    "import numpy as np\n",
    "import plotly.graph_objects as go\n",
    "from plotly.subplots import make_subplots"
   ]
  },
  {
   "cell_type": "markdown",
   "metadata": {},
   "source": [
    "Define datasets to plot:"
   ]
  },
  {
   "cell_type": "code",
   "execution_count": null,
   "metadata": {},
   "outputs": [],
   "source": [
    "nBin = 3\n",
    "nFrame = 40\n",
    "\n",
    "def generateData():\n",
    "    x = \"a,b,c\".split(\",\")\n",
    "    theta = 0.0\n",
    "    for _ in range(nFrame):\n",
    "        yield x, np.random.rand(nBin), theta\n",
    "        theta += np.pi*2*np.random.randn() * 0.05"
   ]
  },
  {
   "cell_type": "markdown",
   "metadata": {},
   "source": [
    "Create an animation:\n",
    "1. Create bar chart objects and line chart ones for each datasets ([see](https://community.plotly.com/t/single-subplot-animations/35235/2))\n",
    "2. Create frames for each bar charts\n",
    "3. Define a layout specifying frame duration\n",
    "4. Create a figure object"
   ]
  },
  {
   "cell_type": "code",
   "execution_count": null,
   "metadata": {},
   "outputs": [],
   "source": [
    "barcharts = []\n",
    "linecharts = []\n",
    "for x,y,th in generateData():    \n",
    "    barcharts.append(go.Bar(x=x,y=y))\n",
    "    linecharts.append(go.Scatter(x=[0,np.cos(th)], y=[0,np.sin(th)], mode=\"lines\"))"
   ]
  },
  {
   "cell_type": "code",
   "execution_count": null,
   "metadata": {},
   "outputs": [],
   "source": [
    "frames = [go.Frame(data = [ob1, ob2], traces=[0,1]) for ob1, ob2 in zip(barcharts, linecharts)]"
   ]
  },
  {
   "cell_type": "code",
   "execution_count": null,
   "metadata": {},
   "outputs": [],
   "source": [
    "frame_duration = 500 # 500[msec]\n",
    "layout=go.Layout(\n",
    "    yaxis=dict(range=[0, 1], autorange=False),\n",
    "    xaxis2=dict(range=[-1, 1], autorange=False), # Here is configuration of xaxis on the second axis\n",
    "    yaxis2=dict(range=[-1, 1], autorange=False), # Here is configuration of yaxis on the second axis\n",
    "    title=\"An example of bar charts\",\n",
    "    updatemenus=[dict(\n",
    "        type=\"buttons\",\n",
    "        buttons=[dict(label=\"Play\",\n",
    "                      method=\"animate\",\n",
    "                      args=[None, dict(frame = dict(duration = frame_duration))])])]\n",
    "    )"
   ]
  },
  {
   "cell_type": "code",
   "execution_count": null,
   "metadata": {},
   "outputs": [],
   "source": [
    "fig = make_subplots(rows=1, cols=2)\n",
    "\n",
    "fig.add_trace(barcharts[0], row=1, col=1)\n",
    "fig.add_trace(linecharts[0], row=1, col=2)\n",
    "\n",
    "fig.update_layout(layout)\n",
    "fig.frames = frames\n",
    "\n",
    "fig.update_layout(height=400, width=900, title_text=\"An animation example of bar charts accompanying with line charts\")\n",
    "fig.show()"
   ]
  }
 ],
 "metadata": {
  "kernelspec": {
   "display_name": "Python 3",
   "language": "python",
   "name": "python3"
  },
  "language_info": {
   "codemirror_mode": {
    "name": "ipython",
    "version": 3
   },
   "file_extension": ".py",
   "mimetype": "text/x-python",
   "name": "python",
   "nbconvert_exporter": "python",
   "pygments_lexer": "ipython3",
   "version": "3.7.5"
  }
 },
 "nbformat": 4,
 "nbformat_minor": 2
}

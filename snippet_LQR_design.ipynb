{
 "cells": [
  {
   "cell_type": "code",
   "execution_count": null,
   "metadata": {},
   "outputs": [],
   "source": [
    "import scipy.linalg\n",
    "import numpy as np\n",
    "import matplotlib.pylab as plt"
   ]
  },
  {
   "cell_type": "markdown",
   "metadata": {},
   "source": [
    "\\begin{align}\n",
    "x(t+1) &= A x(t) + B u(t), \\\\\n",
    "V &= \\sum_{t=0:\\infty} \\frac{1}{2} x(t)^{T} Q x(t) + \\frac{1}{2} u(t)^{T}Ru(t),\\\\\n",
    "P &= Q + A^{T} P \\left( I + B R^{-1} B^{T} P \\right)^{-1} A,\\\\\n",
    "K &= - R^{-1} B^{T} (A^{T})^{-1} (P-Q).\n",
    "\\end{align}"
   ]
  },
  {
   "cell_type": "markdown",
   "metadata": {},
   "source": [
    "Create a parameter set of linear system:"
   ]
  },
  {
   "cell_type": "code",
   "execution_count": null,
   "metadata": {},
   "outputs": [],
   "source": [
    "n,m = np.random.randint(1, 10, size = (2,))\n",
    "A = np.random.randn(n,n) # (n,n)\n",
    "B = np.random.randn(n,m) # (n,m)\n",
    "Q = np.eye(n) \n",
    "R = np.eye(m) "
   ]
  },
  {
   "cell_type": "markdown",
   "metadata": {},
   "source": [
    "Build an LQR:"
   ]
  },
  {
   "cell_type": "code",
   "execution_count": null,
   "metadata": {},
   "outputs": [],
   "source": [
    "P = scipy.linalg.solve_discrete_are(A,B,Q,R)\n",
    "K = - np.linalg.inv(R) @ B.T @ np.linalg.inv(A.T) @ (P-Q)"
   ]
  },
  {
   "cell_type": "markdown",
   "metadata": {},
   "source": [
    "Check if all the poles are inside the unit circle:"
   ]
  },
  {
   "cell_type": "code",
   "execution_count": null,
   "metadata": {},
   "outputs": [],
   "source": [
    "poles = np.linalg.eig(A + B@K)[0]\n",
    "\n",
    "th = np.linspace(0,1,2**7) * np.pi*2\n",
    "plt.plot(poles.real, poles.imag, 'o')\n",
    "plt.plot(np.sin(th), np.cos(th), '--', color=\"gray\")\n",
    "pass"
   ]
  }
 ],
 "metadata": {
  "kernelspec": {
   "display_name": "Python 3",
   "language": "python",
   "name": "python3"
  },
  "language_info": {
   "codemirror_mode": {
    "name": "ipython",
    "version": 3
   },
   "file_extension": ".py",
   "mimetype": "text/x-python",
   "name": "python",
   "nbconvert_exporter": "python",
   "pygments_lexer": "ipython3",
   "version": "3.7.5"
  }
 },
 "nbformat": 4,
 "nbformat_minor": 2
}

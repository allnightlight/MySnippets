{
 "cells": [
  {
   "cell_type": "markdown",
   "metadata": {},
   "source": [
    "* links:\n",
    "    * see [default units](https://github.com/hgrecco/pint/blob/master/pint/default_en.txt)\n",
    "    * see [Defining units](https://pint.readthedocs.io/en/stable/defining.html#defining)"
   ]
  },
  {
   "cell_type": "code",
   "execution_count": 1,
   "metadata": {},
   "outputs": [],
   "source": [
    "from pint import UnitRegistry\n",
    "\n",
    "import numpy as np"
   ]
  },
  {
   "cell_type": "code",
   "execution_count": 2,
   "metadata": {},
   "outputs": [],
   "source": [
    "ureg = UnitRegistry()"
   ]
  },
  {
   "cell_type": "code",
   "execution_count": 3,
   "metadata": {},
   "outputs": [],
   "source": [
    "Vbase = ureg.volt * 154e+3 # 66kV\n",
    "Pbase = ureg.watt * 150e+6 # 100MVA\n",
    "Ibase = (Pbase/3/(Vbase/np.sqrt(3))).to(ureg.ampere) # 562.4[A]\n",
    "Zbase = (Vbase/np.sqrt(3)/Ibase).to(ureg.ohm) # 158.1[Ohm]"
   ]
  },
  {
   "cell_type": "code",
   "execution_count": 4,
   "metadata": {},
   "outputs": [
    {
     "name": "stdout",
     "output_type": "stream",
     "text": [
      "volt_pu = 154000.0 * volt\n",
      "watt_pu = 150000000.0 * watt\n",
      "ampere_pu = 562.3541583015835 * ampere\n",
      "ohm_pu = 158.10666666666665 * ohm\n"
     ]
    }
   ],
   "source": [
    "for q in [Vbase, Pbase, Ibase, Zbase]:\n",
    "    cmd = \"{1}_pu = {0} * {1}\".format(q.magnitude, q.units)\n",
    "    print(cmd)\n",
    "    ureg.define(cmd)"
   ]
  },
  {
   "cell_type": "code",
   "execution_count": 5,
   "metadata": {},
   "outputs": [],
   "source": [
    "ureg.define(\"mwatt = 1e+6 * watt\")"
   ]
  },
  {
   "cell_type": "markdown",
   "metadata": {},
   "source": [
    "* $E_{s}$ and $E_{r}$ denote value in voltage of a sender and a receiver, respectively.\n",
    "* $Z = R+{\\rm j}X$ denotes value in impedance of the line between the sender and the receiver.\n",
    "* Let $I$ the current from the sender to the receiver, that is $I = (E_{s}-E_{r})/Z$.\n",
    "* Let $P_{s}$ and $P_{r}$ a power flow from the sender to the network and a power flow from the network to the receiver, respectively.\n",
    "    * $P_{s}$ follows $P_{s} = E_{s} * I^{\\ast}$,\n",
    "    * $P_{r}$ follows $P_{r} = E_{r} * I^{\\ast}$."
   ]
  },
  {
   "cell_type": "code",
   "execution_count": 6,
   "metadata": {},
   "outputs": [
    {
     "name": "stdout",
     "output_type": "stream",
     "text": [
      "(1+0.5488135039273248j) volt_pu 1.0 volt_pu\n",
      "(0.007151893663724195+0.6027633760716439j) ohm_pu 0.6028058038176666 ohm_pu\n",
      "(1.5768029467505917+0.018709044795161556j) ampere_pu 1.5769139359009092 ampere_pu\n",
      "(0.9162957092508072+0.4888203635332984j) watt_pu 1.038529332564211 watt_pu\n",
      "(0.9103676057654494-0.010801672048767292j) watt_pu 0.9104316853812623 watt_pu\n"
     ]
    }
   ],
   "source": [
    "rState = np.random.RandomState(0)\n",
    "\n",
    "Es = (1.0 + 1j*rState.rand()) * ureg.volt_pu # [p.u.]\n",
    "Er = 1.0 * ureg.volt_pu # [p.u.]\n",
    "R = 0.01 * rState.rand() * ureg.ohm_pu # [p.u.]\n",
    "X = rState.rand() * ureg.ohm_pu # [p.u.]\n",
    "Z = R + 1j*X # [p.u.]\n",
    "I = ((Es-Er)/Z).to(ureg.ampere_pu) # [p.u.]\n",
    "Ps = (Es * np.conj(I)).to(ureg.watt_pu)\n",
    "Pr = (Er * np.conj(I)).to(ureg.watt_pu)\n",
    "print(Es, Er)\n",
    "print(Z, np.abs(Z))\n",
    "print(I, np.abs(I))\n",
    "print(Ps, np.abs(Ps))\n",
    "print(Pr, np.abs(Pr))"
   ]
  },
  {
   "cell_type": "code",
   "execution_count": 7,
   "metadata": {},
   "outputs": [
    {
     "name": "stdout",
     "output_type": "stream",
     "text": [
      "(137.44435638762107+73.32305452999476j) mwatt 155.77939988463166 mwatt\n",
      "(136.55514086481742-1.6202508073150939j) mwatt 136.56475280718934 mwatt\n"
     ]
    }
   ],
   "source": [
    "print(Ps.to(ureg.mwatt), np.abs(Ps).to(ureg.mwatt))\n",
    "print(Pr.to(ureg.mwatt), np.abs(Pr).to(ureg.mwatt))"
   ]
  }
 ],
 "metadata": {
  "kernelspec": {
   "display_name": "Python 3",
   "language": "python",
   "name": "python3"
  },
  "language_info": {
   "codemirror_mode": {
    "name": "ipython",
    "version": 3
   },
   "file_extension": ".py",
   "mimetype": "text/x-python",
   "name": "python",
   "nbconvert_exporter": "python",
   "pygments_lexer": "ipython3",
   "version": "3.7.5"
  }
 },
 "nbformat": 4,
 "nbformat_minor": 2
}

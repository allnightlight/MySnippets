{
 "cells": [
  {
   "cell_type": "markdown",
   "metadata": {},
   "source": [
    "# table of contents"
   ]
  },
  {
   "cell_type": "markdown",
   "metadata": {},
   "source": [
    "+ line charts\n",
    "    + [line chart 1](#line-chart-1)\n",
    "    + [line chart 2](#line-chart-2)\n",
    "    + [line chart 3](#line-chart-3)\n",
    "    + [line chart 4](#line-chart-4)\n",
    "    + [line chart 5](#line-chart-5)\n",
    "    + [line chart 6](#line-chart-6)"
   ]
  },
  {
   "cell_type": "markdown",
   "metadata": {},
   "source": [
    "# Works"
   ]
  },
  {
   "cell_type": "markdown",
   "metadata": {},
   "source": [
    "## line chart 1\n",
    "[Line charts](https://www.kaggle.com/kanncaa1/plotly-tutorial-for-beginners#Loading-Data-and-Explanation-of-Features)"
   ]
  },
  {
   "cell_type": "code",
   "execution_count": null,
   "metadata": {},
   "outputs": [],
   "source": [
    "def create_view():\n",
    "    import plotly.graph_objs as go\n",
    "    from plotly.offline import iplot\n",
    "    import numpy as np\n",
    "\n",
    "    n = 2**7\n",
    "    x = np.linspace(0,1,n)\n",
    "    y = np.random.randn(n)\n",
    "\n",
    "    tr = go.Scatter(x=x, y = y, mode = \"lines\")\n",
    "    data = [tr,]\n",
    "    fig = dict(data = data)\n",
    "    iplot(fig)"
   ]
  },
  {
   "cell_type": "code",
   "execution_count": null,
   "metadata": {},
   "outputs": [],
   "source": [
    "create_view()"
   ]
  },
  {
   "cell_type": "markdown",
   "metadata": {},
   "source": [
    "## line chart 2\n",
    "[Line charts](https://www.kaggle.com/kanncaa1/plotly-tutorial-for-beginners#Loading-Data-and-Explanation-of-Features)"
   ]
  },
  {
   "cell_type": "code",
   "execution_count": null,
   "metadata": {},
   "outputs": [],
   "source": [
    "def create_view():\n",
    "    import plotly.graph_objs as go\n",
    "    from plotly.offline import iplot\n",
    "    import numpy as np\n",
    "\n",
    "    n = 2**7\n",
    "    x = np.linspace(0,1,n)\n",
    "    y1 = np.sin(2*np.pi*x)\n",
    "    y2 = np.cos(2*np.pi*x)\n",
    "\n",
    "    tr1 = go.Scatter(x=x, y = y1, mode = \"lines\")\n",
    "    tr2 = go.Scatter(x=x, y = y2, mode = \"lines\")\n",
    "    data = [tr1, tr2]\n",
    "    fig = dict(data = data)\n",
    "    iplot(fig)"
   ]
  },
  {
   "cell_type": "code",
   "execution_count": null,
   "metadata": {},
   "outputs": [],
   "source": [
    "create_view()"
   ]
  },
  {
   "cell_type": "markdown",
   "metadata": {},
   "source": [
    "## line chart 3\n",
    "* [Add Marker Border](https://plotly.com/python/marker-style/)\n",
    "* [Custom Marker Symbols](https://plotly.com/python/marker-style/)"
   ]
  },
  {
   "cell_type": "code",
   "execution_count": null,
   "metadata": {},
   "outputs": [],
   "source": [
    "def create_view():\n",
    "    import plotly.graph_objs as go\n",
    "    from plotly.offline import iplot\n",
    "    import numpy as np\n",
    "\n",
    "    n = 2**3\n",
    "    x = np.linspace(0,1,n)\n",
    "    y1 = np.sin(2*np.pi*x)\n",
    "    y2 = np.cos(2*np.pi*x)\n",
    "\n",
    "    tr1 = go.Scatter(x=x, y = y1, mode = \"lines+markers\", name = \"sin\"\n",
    "                     , marker_symbol = \"cross\"\n",
    "                     , marker = dict(color=\"yellow\", size=16, line = dict(width=2, color=\"black\")))\n",
    "    tr2 = go.Scatter(x=x, y = y2, mode = \"lines+markers\", name = \"cos\")\n",
    "    data = [tr1, tr2]\n",
    "    fig = dict(data = data)\n",
    "    iplot(fig)"
   ]
  },
  {
   "cell_type": "code",
   "execution_count": null,
   "metadata": {},
   "outputs": [],
   "source": [
    "create_view()"
   ]
  },
  {
   "cell_type": "markdown",
   "metadata": {},
   "source": [
    "## line chart 4\n",
    "* [Line charts](https://www.kaggle.com/kanncaa1/plotly-tutorial-for-beginners#Loading-Data-and-Explanation-of-Features)\n",
    "* [Tickmode - Linear](https://plotly.com/python/tick-formatting/)"
   ]
  },
  {
   "cell_type": "code",
   "execution_count": null,
   "metadata": {},
   "outputs": [],
   "source": [
    "def create_view():\n",
    "    import plotly.graph_objs as go\n",
    "    from plotly.offline import iplot\n",
    "    import numpy as np\n",
    "\n",
    "    n = 2**7\n",
    "    x = np.linspace(0,1,n)\n",
    "    y1 = np.sin(2*np.pi*x)\n",
    "    y2 = np.cos(2*np.pi*x)\n",
    "\n",
    "    tr1 = go.Scatter(x=x, y = y1, mode = \"lines\", marker = dict(color=\"lightgray\"))\n",
    "    tr2 = go.Scatter(x=x, y = y2, mode = \"lines\", marker = dict(color=\"lightgray\"))\n",
    "    data = [tr1, tr2]\n",
    "\n",
    "    layout = dict(\n",
    "        title = \"<b>user</b> >> ls<br>\" * 10\n",
    "        , xaxis = dict(\n",
    "            title = \"time\"\n",
    "            , tickmode = \"linear\"\n",
    "            , tick0 = 0.123\n",
    "            , dtick = 0.234\n",
    "            , color = \"red\")\n",
    "        )\n",
    "\n",
    "    fig = dict(data = data, layout = layout)\n",
    "    iplot(fig)"
   ]
  },
  {
   "cell_type": "code",
   "execution_count": null,
   "metadata": {},
   "outputs": [],
   "source": [
    "create_view()"
   ]
  },
  {
   "cell_type": "markdown",
   "metadata": {},
   "source": [
    "## line chart 5\n",
    "* [Line charts](https://www.kaggle.com/kanncaa1/plotly-tutorial-for-beginners#Loading-Data-and-Explanation-of-Features)\n",
    "* [Tickmode - Array](https://plotly.com/python/tick-formatting/)"
   ]
  },
  {
   "cell_type": "code",
   "execution_count": null,
   "metadata": {},
   "outputs": [],
   "source": [
    "def create_view():\n",
    "    import plotly.graph_objs as go\n",
    "    from plotly.offline import iplot\n",
    "    import numpy as np\n",
    "\n",
    "    n = 2**7\n",
    "    x = np.linspace(0,1,n)\n",
    "    y1 = np.sin(2*np.pi*x)\n",
    "    y2 = np.cos(2*np.pi*x)\n",
    "\n",
    "    tr1 = go.Scatter(x=x, y = y1, mode = \"lines\")\n",
    "    tr2 = go.Scatter(x=x, y = y2, mode = \"lines\")\n",
    "    data = [tr1, tr2]\n",
    "\n",
    "    tickvals = np.linspace(0, 1, 5)\n",
    "    ticktext = [\"given {0:.1e}\".format(t) for t in tickvals]\n",
    "    \n",
    "    layout = dict(\n",
    "        title = \"title >> \" * 5\n",
    "        , xaxis = dict(\n",
    "            title = \"time\"\n",
    "            , tickmode = \"array\"\n",
    "            , tickvals = tickvals\n",
    "            , ticktext = ticktext\n",
    "            , color = \"black\")\n",
    "        )\n",
    "\n",
    "    fig = dict(data = data, layout = layout)\n",
    "    iplot(fig)"
   ]
  },
  {
   "cell_type": "code",
   "execution_count": null,
   "metadata": {},
   "outputs": [],
   "source": [
    "create_view()"
   ]
  },
  {
   "cell_type": "markdown",
   "metadata": {},
   "source": [
    "## line chart 6\n",
    "* [Line charts](https://www.kaggle.com/kanncaa1/plotly-tutorial-for-beginners#Loading-Data-and-Explanation-of-Features)\n",
    "* [Using Tickformat Attribute - Date/Time](https://plotly.com/python/tick-formatting/)"
   ]
  },
  {
   "cell_type": "code",
   "execution_count": null,
   "metadata": {},
   "outputs": [],
   "source": [
    "def create_view():\n",
    "    from datetime import datetime, timedelta\n",
    "\n",
    "    import plotly.graph_objs as go\n",
    "    from plotly.offline import iplot\n",
    "    import numpy as np\n",
    "\n",
    "    t0 = datetime.now()\n",
    "    dt = timedelta(hours = 8)\n",
    "\n",
    "    n = 2**3\n",
    "    t = [t0 + i * dt for i in range(n)]\n",
    "    x = np.linspace(0,1,n)\n",
    "    y1 = np.sin(2*np.pi*x)\n",
    "    y2 = np.cos(2*np.pi*x)\n",
    "\n",
    "    tr1 = go.Scatter(x=t, y = y1, mode = \"lines + markers\")\n",
    "    tr2 = go.Scatter(x=t, y = y2, mode = \"lines\")\n",
    "    data = [tr1, tr2]\n",
    "\n",
    "    layout = dict(\n",
    "        title = \"title >> \" * 5\n",
    "        , xaxis = dict(\n",
    "            title = \"time\"\n",
    "            , tickformat=\"%Y-%m-%d\\n%H:%M:%S\"))\n",
    "\n",
    "    fig = dict(data = data, layout = layout)\n",
    "    iplot(fig)"
   ]
  },
  {
   "cell_type": "code",
   "execution_count": null,
   "metadata": {},
   "outputs": [],
   "source": [
    "create_view()"
   ]
  },
  {
   "cell_type": "markdown",
   "metadata": {},
   "source": [
    "## line chart 7\n",
    "* [Line charts](https://www.kaggle.com/kanncaa1/plotly-tutorial-for-beginners#Loading-Data-and-Explanation-of-Features)\n",
    "* [Vertical and Horizontal Lines Positioned Relative to the Axis Data](https://plotly.com/python/shapes/)"
   ]
  },
  {
   "cell_type": "code",
   "execution_count": null,
   "metadata": {},
   "outputs": [],
   "source": [
    "def create_view():\n",
    "    import plotly.graph_objs as go\n",
    "    from plotly.offline import iplot\n",
    "    import numpy as np\n",
    "\n",
    "    n = 2**7\n",
    "    x = np.linspace(0,1,n)\n",
    "    y = np.random.randn(n)\n",
    "\n",
    "    tr = go.Scatter(x=x, y = y, mode = \"lines\")\n",
    "    data = [tr,]\n",
    "    fig = go.Figure(data = data)\n",
    "    # add a horizontal line\n",
    "    fig.add_shape(type=\"line\",\n",
    "        x0=0, y0=2, x1=1, y1=2,\n",
    "        line=dict(\n",
    "            color=\"gray\",\n",
    "            width=2,\n",
    "            dash=\"dash\",\n",
    "        )\n",
    "    )\n",
    "    # add a vertical line\n",
    "    fig.add_shape(type=\"line\",\n",
    "        x0=0.5, y0=-3, x1=0.5, y1=3,\n",
    "        line=dict(\n",
    "            color=\"red\",\n",
    "            width=2,\n",
    "            dash=\"solid\",\n",
    "        )\n",
    "    )\n",
    "\n",
    "    fig.show()"
   ]
  },
  {
   "cell_type": "code",
   "execution_count": null,
   "metadata": {},
   "outputs": [],
   "source": [
    "create_view()"
   ]
  }
 ],
 "metadata": {
  "kernelspec": {
   "display_name": "Python 3",
   "language": "python",
   "name": "python3"
  },
  "language_info": {
   "codemirror_mode": {
    "name": "ipython",
    "version": 3
   },
   "file_extension": ".py",
   "mimetype": "text/x-python",
   "name": "python",
   "nbconvert_exporter": "python",
   "pygments_lexer": "ipython3",
   "version": "3.7.5"
  }
 },
 "nbformat": 4,
 "nbformat_minor": 2
}

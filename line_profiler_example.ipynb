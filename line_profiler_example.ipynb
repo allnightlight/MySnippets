{
 "cells": [
  {
   "cell_type": "markdown",
   "metadata": {},
   "source": [
    "+ When:\n",
    "    + 2021-08-22\n",
    "+ What\n",
    "\t+ Profile some variants of implementation for a feature to sum all the elements under a condition.\n",
    "+ Why\n",
    "\t+ Learn the usage of line_profiler to profile implementations line by line\n",
    "+ How\n",
    "\t+ 1. Implement a feature, summing up all the elements of a given array under a condtion, in various ways [(work1)](#Work1)\n",
    "\t+ 2. Implement a main function to call all the functions to implement the feature of summing elements up [(work2)](#Work2)\n",
    "\t+ 3. Compare elipsed times of each functions [(work3)](#Work3)\n",
    "\t+ 4. Learn tips for condtion-oriented array summing up [(work4)](#Work4)"
   ]
  },
  {
   "cell_type": "markdown",
   "metadata": {},
   "source": [
    "# Work1\n",
    "Implement a feature, summing up all the elements of a given array under a condtion, in various ways"
   ]
  },
  {
   "cell_type": "code",
   "execution_count": null,
   "metadata": {},
   "outputs": [],
   "source": [
    "import numpy as np"
   ]
  },
  {
   "cell_type": "code",
   "execution_count": null,
   "metadata": {},
   "outputs": [],
   "source": [
    "def f1(x):\n",
    "    # x: (*,)\n",
    "    y = []\n",
    "    for elm in x:\n",
    "        if elm > 0:\n",
    "            y.append(elm)\n",
    "    return sum(y)"
   ]
  },
  {
   "cell_type": "code",
   "execution_count": null,
   "metadata": {},
   "outputs": [],
   "source": [
    "def f2(x):\n",
    "    # x: (*,)\n",
    "    res = 0\n",
    "    for elm in x:\n",
    "        if elm > 0:\n",
    "            res += elm\n",
    "    return res"
   ]
  },
  {
   "cell_type": "code",
   "execution_count": null,
   "metadata": {},
   "outputs": [],
   "source": [
    "def f3(x):\n",
    "    # x: (*,)\n",
    "    b = x > 0\n",
    "    y = x[b]\n",
    "    return np.sum(y)"
   ]
  },
  {
   "cell_type": "code",
   "execution_count": null,
   "metadata": {},
   "outputs": [],
   "source": [
    "def f4(x):\n",
    "    # x: (*,)\n",
    "    b = np.where(x > 0)[0]\n",
    "    y = x[b]\n",
    "    return np.sum(y)"
   ]
  },
  {
   "cell_type": "code",
   "execution_count": null,
   "metadata": {},
   "outputs": [],
   "source": [
    "x = np.random.randn(10)\n",
    "target = f1(x)\n",
    "for tested in f1(x), f2(x), f3(x), f4(x):\n",
    "    assert abs(target-tested) < 1e-8"
   ]
  },
  {
   "cell_type": "markdown",
   "metadata": {},
   "source": [
    "# Work2\n",
    "Implement a main function to call all the functions to implement the feature of summing elements up"
   ]
  },
  {
   "cell_type": "code",
   "execution_count": null,
   "metadata": {},
   "outputs": [],
   "source": [
    "def main(n, nRepeat):\n",
    "    for _ in range(nRepeat):\n",
    "        x = np.random.randn(n)\n",
    "        f1(x)\n",
    "        f2(x)\n",
    "        f3(x)\n",
    "        f4(x)"
   ]
  },
  {
   "cell_type": "markdown",
   "metadata": {},
   "source": [
    "# work3\n",
    "Compare elipsed times of each functions"
   ]
  },
  {
   "cell_type": "code",
   "execution_count": null,
   "metadata": {},
   "outputs": [],
   "source": [
    "import sys\n",
    "from line_profiler import LineProfiler"
   ]
  },
  {
   "cell_type": "code",
   "execution_count": null,
   "metadata": {},
   "outputs": [],
   "source": [
    "profile = LineProfiler(main, f1, f2, f3, f4)\n",
    "profile.run(\"main(2**10, 100)\")\n",
    "profile.print_stats(sys.stdout) "
   ]
  },
  {
   "cell_type": "code",
   "execution_count": null,
   "metadata": {},
   "outputs": [],
   "source": [
    "with open(\"line_profiling_report.txt\", \"w\", encoding=\"utf-8\") as fp:\n",
    "    profile.print_stats(fp) "
   ]
  },
  {
   "cell_type": "markdown",
   "metadata": {},
   "source": [
    "# Work4\n",
    "Learn tips for condtion-oriented array summing up"
   ]
  },
  {
   "cell_type": "markdown",
   "metadata": {},
   "source": [
    "* It's supposed to avoid for-loop summations of array.\n",
    "* Random access to array by specifying indexes is slightly superior to boolean conditioned access"
   ]
  }
 ],
 "metadata": {
  "kernelspec": {
   "display_name": "Python 3",
   "language": "python",
   "name": "python3"
  },
  "language_info": {
   "codemirror_mode": {
    "name": "ipython",
    "version": 3
   },
   "file_extension": ".py",
   "mimetype": "text/x-python",
   "name": "python",
   "nbconvert_exporter": "python",
   "pygments_lexer": "ipython3",
   "version": "3.7.5"
  }
 },
 "nbformat": 4,
 "nbformat_minor": 2
}

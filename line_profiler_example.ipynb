{
 "cells": [
  {
   "cell_type": "markdown",
   "metadata": {},
   "source": [
    "+ When:\n",
    "    + 2021-08-22\n",
    "+ What\n",
    "\t+ Profile some variants of implementation for a feature to sum all the elements under a condition.\n",
    "+ Why\n",
    "\t+ Learn the usage of line_profiler to profile implementations line by line\n",
    "+ How\n",
    "\t+ 1. Implement a feature, summing up all the elements of a given array under a condtion, in various ways [(work1)](#Work1)\n",
    "\t+ 2. Implement a main function to call all the functions to implement the feature of summing elements up [(work2)](#Work2)\n",
    "\t+ 3. Compare elipsed times of each functions [(work3)](#Work3)\n",
    "\t+ 4. Learn tips for condtion-oriented array summing up [(work4)](#Work4)"
   ]
  },
  {
   "cell_type": "markdown",
   "metadata": {},
   "source": [
    "# Work1\n",
    "Implement a feature, summing up all the elements of a given array under a condtion, in various ways"
   ]
  },
  {
   "cell_type": "code",
   "execution_count": 1,
   "metadata": {},
   "outputs": [],
   "source": [
    "import numpy as np"
   ]
  },
  {
   "cell_type": "code",
   "execution_count": 2,
   "metadata": {},
   "outputs": [],
   "source": [
    "def f1(x):\n",
    "    # x: (*,)\n",
    "    y = []\n",
    "    for elm in x:\n",
    "        if elm > 0:\n",
    "            y.append(elm)\n",
    "    return sum(y)"
   ]
  },
  {
   "cell_type": "code",
   "execution_count": 3,
   "metadata": {},
   "outputs": [],
   "source": [
    "def f2(x):\n",
    "    # x: (*,)\n",
    "    res = 0\n",
    "    for elm in x:\n",
    "        if elm > 0:\n",
    "            res += elm\n",
    "    return res"
   ]
  },
  {
   "cell_type": "code",
   "execution_count": 4,
   "metadata": {},
   "outputs": [],
   "source": [
    "def f3(x):\n",
    "    # x: (*,)\n",
    "    b = x > 0\n",
    "    y = x[b]\n",
    "    return np.sum(y)"
   ]
  },
  {
   "cell_type": "code",
   "execution_count": 5,
   "metadata": {},
   "outputs": [],
   "source": [
    "def f4(x):\n",
    "    # x: (*,)\n",
    "    b = np.where(x > 0)[0]\n",
    "    y = x[b]\n",
    "    return np.sum(y)"
   ]
  },
  {
   "cell_type": "code",
   "execution_count": 6,
   "metadata": {},
   "outputs": [],
   "source": [
    "x = np.random.randn(10)\n",
    "target = f1(x)\n",
    "for tested in f1(x), f2(x), f3(x), f4(x):\n",
    "    assert abs(target-tested) < 1e-8"
   ]
  },
  {
   "cell_type": "markdown",
   "metadata": {},
   "source": [
    "# Work2\n",
    "Implement a main function to call all the functions to implement the feature of summing elements up"
   ]
  },
  {
   "cell_type": "code",
   "execution_count": 7,
   "metadata": {},
   "outputs": [],
   "source": [
    "def main(n, nRepeat):\n",
    "    for _ in range(nRepeat):\n",
    "        x = np.random.randn(n)\n",
    "        f1(x)\n",
    "        f2(x)\n",
    "        f3(x)\n",
    "        f4(x)"
   ]
  },
  {
   "cell_type": "markdown",
   "metadata": {},
   "source": [
    "# work3\n",
    "Compare elipsed times of each functions"
   ]
  },
  {
   "cell_type": "code",
   "execution_count": 8,
   "metadata": {},
   "outputs": [],
   "source": [
    "import sys\n",
    "from line_profiler import LineProfiler"
   ]
  },
  {
   "cell_type": "code",
   "execution_count": 9,
   "metadata": {},
   "outputs": [
    {
     "name": "stdout",
     "output_type": "stream",
     "text": [
      "Timer unit: 1e-07 s\n",
      "\n",
      "Total time: 0.1326 s\n",
      "File: <ipython-input-2-b7bf33cf0d95>\n",
      "Function: f1 at line 1\n",
      "\n",
      "Line #      Hits         Time  Per Hit   % Time  Line Contents\n",
      "==============================================================\n",
      "     1                                           def f1(x):\n",
      "     2                                               # x: (*,)\n",
      "     3       100        738.0      7.4      0.1      y = []\n",
      "     4    102500     414845.0      4.0     31.3      for elm in x:\n",
      "     5    102400     635903.0      6.2     48.0          if elm > 0:\n",
      "     6     51325     226574.0      4.4     17.1              y.append(elm)\n",
      "     7       100      47940.0    479.4      3.6      return sum(y)\n",
      "\n",
      "Total time: 0.121193 s\n",
      "File: <ipython-input-3-140e5a07d91d>\n",
      "Function: f2 at line 1\n",
      "\n",
      "Line #      Hits         Time  Per Hit   % Time  Line Contents\n",
      "==============================================================\n",
      "     1                                           def f2(x):\n",
      "     2                                               # x: (*,)\n",
      "     3       100        361.0      3.6      0.0      res = 0\n",
      "     4    102500     417867.0      4.1     34.5      for elm in x:\n",
      "     5    102400     560720.0      5.5     46.3          if elm > 0:\n",
      "     6     51325     232648.0      4.5     19.2              res += elm\n",
      "     7       100        336.0      3.4      0.0      return res\n",
      "\n",
      "Total time: 0.0049608 s\n",
      "File: <ipython-input-4-94fe0514260e>\n",
      "Function: f3 at line 1\n",
      "\n",
      "Line #      Hits         Time  Per Hit   % Time  Line Contents\n",
      "==============================================================\n",
      "     1                                           def f3(x):\n",
      "     2                                               # x: (*,)\n",
      "     3       100      10425.0    104.2     21.0      b = x > 0\n",
      "     4       100      11588.0    115.9     23.4      y = x[b]\n",
      "     5       100      27595.0    275.9     55.6      return np.sum(y)\n",
      "\n",
      "Total time: 0.0030592 s\n",
      "File: <ipython-input-5-397927c06785>\n",
      "Function: f4 at line 1\n",
      "\n",
      "Line #      Hits         Time  Per Hit   % Time  Line Contents\n",
      "==============================================================\n",
      "     1                                           def f4(x):\n",
      "     2                                               # x: (*,)\n",
      "     3       100      15929.0    159.3     52.1      b = np.where(x > 0)[0]\n",
      "     4       100       2154.0     21.5      7.0      y = x[b]\n",
      "     5       100      12509.0    125.1     40.9      return np.sum(y)\n",
      "\n",
      "Total time: 0.415174 s\n",
      "File: <ipython-input-7-6d628406ad03>\n",
      "Function: main at line 1\n",
      "\n",
      "Line #      Hits         Time  Per Hit   % Time  Line Contents\n",
      "==============================================================\n",
      "     1                                           def main(n, nRepeat):\n",
      "     2       101        677.0      6.7      0.0      for _ in range(nRepeat):\n",
      "     3       100      35406.0    354.1      0.9          x = np.random.randn(n)\n",
      "     4       100    2053804.0  20538.0     49.5          f1(x)\n",
      "     5       100    1972120.0  19721.2     47.5          f2(x)\n",
      "     6       100      54685.0    546.9      1.3          f3(x)\n",
      "     7       100      35044.0    350.4      0.8          f4(x)\n",
      "\n"
     ]
    }
   ],
   "source": [
    "profile = LineProfiler(main, f1, f2, f3, f4)\n",
    "profile.run(\"main(2**10, 100)\")\n",
    "profile.print_stats(sys.stdout) "
   ]
  },
  {
   "cell_type": "markdown",
   "metadata": {},
   "source": [
    "# Work4\n",
    "Learn tips for condtion-oriented array summing up"
   ]
  },
  {
   "cell_type": "markdown",
   "metadata": {},
   "source": [
    "* It's supposed to avoid for-loop summations of array.\n",
    "* Random access to array by specifying indexes is slightly superior to boolean conditioned access"
   ]
  }
 ],
 "metadata": {
  "kernelspec": {
   "display_name": "Python 3",
   "language": "python",
   "name": "python3"
  },
  "language_info": {
   "codemirror_mode": {
    "name": "ipython",
    "version": 3
   },
   "file_extension": ".py",
   "mimetype": "text/x-python",
   "name": "python",
   "nbconvert_exporter": "python",
   "pygments_lexer": "ipython3",
   "version": "3.7.5"
  }
 },
 "nbformat": 4,
 "nbformat_minor": 2
}

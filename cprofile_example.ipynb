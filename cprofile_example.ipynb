{
 "cells": [
  {
   "cell_type": "markdown",
   "metadata": {},
   "source": [
    "+ When:\n",
    "    + 2021-08-14\n",
    "+ What\n",
    "\t+ Profile some implementations of matrix inner product\n",
    "+ Why\n",
    "\t+ Learn how to profile a python implementation\n",
    "+ How\n",
    "\t+ 1. Implement some features of inner product of two matrices, m1 and m2\n",
    "\t+ 2. Run all the implementations with a same set of parameters\n",
    "\t+ 3. Compare elipsed times for the implemntations\n",
    "\t+ 4. Learn tips for inner product implementations"
   ]
  },
  {
   "cell_type": "code",
   "execution_count": 1,
   "metadata": {},
   "outputs": [],
   "source": [
    "import cProfile\n",
    "import numpy as np"
   ]
  },
  {
   "cell_type": "markdown",
   "metadata": {},
   "source": [
    "# 1. Implement features\n",
    "Implement a feature of inner product of two matrices, m1 and m2, in two ways"
   ]
  },
  {
   "cell_type": "code",
   "execution_count": 2,
   "metadata": {},
   "outputs": [],
   "source": [
    "def f1(m1, m2):\n",
    "    # m1: (n1, n2), m2: (n2, n3)\n",
    "    return m1 @ m2"
   ]
  },
  {
   "cell_type": "code",
   "execution_count": 3,
   "metadata": {},
   "outputs": [],
   "source": [
    "def f2(m1, m2):\n",
    "    # m1: (n1, n2), m2: (n2, n3)\n",
    "    return np.matmul(m1, m2)"
   ]
  },
  {
   "cell_type": "code",
   "execution_count": 4,
   "metadata": {},
   "outputs": [],
   "source": [
    "def f3(m1, m2):\n",
    "    # m1: (n1, n2), m2: (n2, n3)\n",
    "    n1, n2 = m1.shape\n",
    "    _, n3 = m2.shape\n",
    "    m3 = np.zeros((n1, n3))\n",
    "    for i in range(n1):\n",
    "        for k in range(n3):\n",
    "            for j in range(n2):\n",
    "                m3[i,k] += m1[i,j] * m2[j,k]\n",
    "    return m3"
   ]
  },
  {
   "cell_type": "code",
   "execution_count": 5,
   "metadata": {},
   "outputs": [],
   "source": [
    "def f4(m1, m2):\n",
    "    # m1: (n1, n2), m2: (n2, n3)\n",
    "    n1, n2 = m1.shape\n",
    "    _, n3 = m2.shape\n",
    "    m2_ = m2.T\n",
    "    m3 = np.zeros((n1, n3))\n",
    "    for i in range(n1):\n",
    "        for k in range(n3):\n",
    "            for j in range(n2):\n",
    "                m3[i,k] += m1[i,j] * m2_[k,j]\n",
    "    return m3"
   ]
  },
  {
   "cell_type": "code",
   "execution_count": 6,
   "metadata": {},
   "outputs": [],
   "source": [
    "def f5(m1, m2):\n",
    "    # m1: (n1, n2), m2: (n2, n3)\n",
    "    n1, n2 = m1.shape\n",
    "    _, n3 = m2.shape\n",
    "    m2_ = m2.T\n",
    "    m3 = np.zeros((n1, n3))\n",
    "    for i in range(n1):\n",
    "        for k in range(n3):\n",
    "            m3[i,k] = m1[i,:] @ m2[:,k]\n",
    "    return m3"
   ]
  },
  {
   "cell_type": "code",
   "execution_count": 10,
   "metadata": {},
   "outputs": [],
   "source": [
    "def f6(m1, m2):\n",
    "    # m1: (n1, n2), m2: (n2, n3)\n",
    "    n1, n2 = m1.shape\n",
    "    _, n3 = m2.shape\n",
    "    m2_ = m2.T\n",
    "    m3 = np.zeros((n1, n3))\n",
    "    for j in range(n2):\n",
    "        m3 += m1[:,j,None] * m2[None,j,:]\n",
    "    return m3"
   ]
  },
  {
   "cell_type": "code",
   "execution_count": 11,
   "metadata": {},
   "outputs": [],
   "source": [
    "m1 = np.random.randn(10,2)\n",
    "m2 = np.random.randn(2,3)\n",
    "\n",
    "assert np.max(np.abs(f1(m1, m2) - f2(m1, m2))) < 1e-8\n",
    "assert np.max(np.abs(f1(m1, m2) - f3(m1, m2))) < 1e-8\n",
    "assert np.max(np.abs(f1(m1, m2) - f4(m1, m2))) < 1e-8\n",
    "assert np.max(np.abs(f1(m1, m2) - f5(m1, m2))) < 1e-8\n",
    "assert np.max(np.abs(f1(m1, m2) - f6(m1, m2))) < 1e-8"
   ]
  },
  {
   "cell_type": "markdown",
   "metadata": {},
   "source": [
    "# 2. Implement a caller\n",
    "Run the two methods with a same set of parameters"
   ]
  },
  {
   "cell_type": "code",
   "execution_count": 14,
   "metadata": {},
   "outputs": [],
   "source": [
    "n1, n2, n3 = 2**5, 2**8, 2**5\n",
    "m1, m2 = np.random.randn(n1, n2), np.random.randn(n2, n3)\n",
    "def main(nRepeat):\n",
    "    for _ in range(nRepeat):\n",
    "        f1(m1, m2)\n",
    "        f2(m1, m2)\n",
    "        f3(m1, m2)\n",
    "        f4(m1, m2)\n",
    "        f5(m1, m2)\n",
    "        f6(m1, m2)"
   ]
  },
  {
   "cell_type": "markdown",
   "metadata": {},
   "source": [
    "# 3. Profile\n",
    "Compare elipsed times for two implemntations"
   ]
  },
  {
   "cell_type": "code",
   "execution_count": 16,
   "metadata": {},
   "outputs": [
    {
     "name": "stdout",
     "output_type": "stream",
     "text": [
      "         324 function calls in 13.292 seconds\n",
      "\n",
      "   Ordered by: internal time\n",
      "\n",
      "   ncalls  tottime  percall  cumtime  percall filename:lineno(function)\n",
      "       32    6.648    0.208    6.648    0.208 <ipython-input-4-8440f1c32040>:1(f3)\n",
      "       32    6.543    0.204    6.543    0.204 <ipython-input-5-cd5086534581>:1(f4)\n",
      "       32    0.058    0.002    0.058    0.002 <ipython-input-6-e0185ad864b1>:1(f5)\n",
      "       32    0.040    0.001    0.040    0.001 <ipython-input-10-ad047bf171d5>:1(f6)\n",
      "       32    0.001    0.000    0.001    0.000 <ipython-input-2-267aabae791c>:1(f1)\n",
      "       32    0.001    0.000    0.001    0.000 <ipython-input-3-1d70a58175a5>:1(f2)\n",
      "      128    0.000    0.000    0.000    0.000 {built-in method numpy.zeros}\n",
      "        1    0.000    0.000   13.292   13.292 <ipython-input-14-0f0a4b22ee4a>:3(main)\n",
      "        1    0.000    0.000   13.292   13.292 {built-in method builtins.exec}\n",
      "        1    0.000    0.000   13.292   13.292 <string>:1(<module>)\n",
      "        1    0.000    0.000    0.000    0.000 {method 'disable' of '_lsprof.Profiler' objects}\n",
      "\n",
      "\n"
     ]
    }
   ],
   "source": [
    "cProfile.run(\"main(32)\", sort=\"tottime\")"
   ]
  },
  {
   "cell_type": "markdown",
   "metadata": {},
   "source": [
    "# 4. Discussions\n",
    "Learn which implemtation way is better"
   ]
  },
  {
   "cell_type": "markdown",
   "metadata": {},
   "source": [
    "* When passing an inner product of a pair of matrices, it's highly reocommended to use matmul or the operator @.\n",
    "* When being unable to avoid random access to matrix elements, minimize the number of the access like in f5 or f6."
   ]
  }
 ],
 "metadata": {
  "kernelspec": {
   "display_name": "Python 3",
   "language": "python",
   "name": "python3"
  },
  "language_info": {
   "codemirror_mode": {
    "name": "ipython",
    "version": 3
   },
   "file_extension": ".py",
   "mimetype": "text/x-python",
   "name": "python",
   "nbconvert_exporter": "python",
   "pygments_lexer": "ipython3",
   "version": "3.7.5"
  }
 },
 "nbformat": 4,
 "nbformat_minor": 2
}

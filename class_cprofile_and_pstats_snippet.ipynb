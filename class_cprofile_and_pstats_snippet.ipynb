{
 "cells": [
  {
   "cell_type": "code",
   "execution_count": null,
   "metadata": {},
   "outputs": [],
   "source": [
    "import cProfile\n",
    "import pstats\n",
    "import time"
   ]
  },
  {
   "cell_type": "markdown",
   "metadata": {},
   "source": [
    "Implement a target method for profiling"
   ]
  },
  {
   "cell_type": "code",
   "execution_count": null,
   "metadata": {},
   "outputs": [],
   "source": [
    "import numpy as np\n",
    "\n",
    "def g():\n",
    "    n, m = 2**10, 2**7\n",
    "    X = np.random.randn(n, m)\n",
    "    return X\n",
    "\n",
    "def f1(X):\n",
    "    n,m = X.shape\n",
    "    XX = np.zeros((m,m))\n",
    "    for i in range(m):\n",
    "        for j in range(m):\n",
    "            for k in range(m):\n",
    "                XX[i,j] += X[k,i] * X[k,j]\n",
    "    return XX\n",
    "\n",
    "def f2(XX):\n",
    "    return np.linalg.svd(XX)\n",
    "\n",
    "def target(X):\n",
    "    XX = f1(X)\n",
    "    return f2(XX)"
   ]
  },
  {
   "cell_type": "markdown",
   "metadata": {},
   "source": [
    "Initialize a profiler with timer = process_time, instead of `perf_counter`:"
   ]
  },
  {
   "cell_type": "code",
   "execution_count": null,
   "metadata": {},
   "outputs": [],
   "source": [
    "pr = cProfile.Profile(timer = time.process_time)\n",
    "#pr = cProfile.Profile(timer = time.perf_counter)"
   ]
  },
  {
   "cell_type": "markdown",
   "metadata": {},
   "source": [
    "Measure elapsed time for running the target method:"
   ]
  },
  {
   "cell_type": "code",
   "execution_count": null,
   "metadata": {},
   "outputs": [],
   "source": [
    "X = g()\n",
    "pr.enable()\n",
    "for _ in range(5):\n",
    "    target(X)\n",
    "pr.disable()"
   ]
  },
  {
   "cell_type": "markdown",
   "metadata": {},
   "source": [
    "Show a profiling report:"
   ]
  },
  {
   "cell_type": "code",
   "execution_count": null,
   "metadata": {},
   "outputs": [],
   "source": [
    "ps = pstats.Stats(pr)\n",
    "ps.sort_stats(\"cumtime\").print_stats(\"(f1|f2|target)\");"
   ]
  },
  {
   "cell_type": "markdown",
   "metadata": {},
   "source": [
    "Export the report in a text file:"
   ]
  },
  {
   "cell_type": "code",
   "execution_count": null,
   "metadata": {},
   "outputs": [],
   "source": [
    "with open(\"cprofile_report.txt\", \"w\", encoding=\"utf-8\") as fp:\n",
    "    ps = pstats.Stats(pr, stream = fp)\n",
    "    ps.sort_stats(\"cumtime\").print_stats(\"(f1|f2|target)\")"
   ]
  }
 ],
 "metadata": {
  "kernelspec": {
   "display_name": "Python 3",
   "language": "python",
   "name": "python3"
  },
  "language_info": {
   "codemirror_mode": {
    "name": "ipython",
    "version": 3
   },
   "file_extension": ".py",
   "mimetype": "text/x-python",
   "name": "python",
   "nbconvert_exporter": "python",
   "pygments_lexer": "ipython3",
   "version": "3.7.5"
  }
 },
 "nbformat": 4,
 "nbformat_minor": 2
}

{
 "cells": [
  {
   "cell_type": "markdown",
   "metadata": {},
   "source": [
    "<u>abstract</u>\n",
    "\n",
    "This short text investigates an issue of finding periodic points of the Logistic map.The issue is the difficulty of finding periodic points with long periods.\n",
    "\n",
    "Currently, an algorithm for finding periodic points of the Logistic map can solve fixed points of its composition maps by the Newton-Raphson method.Studying features of the map requires to list up periodic points of the map.However, the conventional algorithm can miss some periodic points.This issue can cause to miss a part of the bifurcation diagram of Logistic map.\n",
    "\n",
    "Algorithms to find roots of polynomial functions of composition maps based on the Logistic map can attract attention, though, the algorithm can produce incorrect solutions with long periods.Thus, bifurcation diagrams can become incorrect, then, obstacles for understanding of the Logistic map can still remain."
   ]
  },
  {
   "cell_type": "code",
   "execution_count": null,
   "metadata": {},
   "outputs": [],
   "source": [
    "from IPython.display import display\n",
    "\n",
    "from sympy import *\n",
    "import numpy as np\n",
    "import matplotlib.pylab as plt"
   ]
  },
  {
   "cell_type": "markdown",
   "metadata": {},
   "source": [
    "Create symbols denoting the independent variable $x$ and the parameter $\\mu$ of the Logistic map:"
   ]
  },
  {
   "cell_type": "code",
   "execution_count": null,
   "metadata": {},
   "outputs": [],
   "source": [
    "x, mu = symbols(\"x,mu\")"
   ]
  },
  {
   "cell_type": "markdown",
   "metadata": {},
   "source": [
    "Implement an expression of logistic map:"
   ]
  },
  {
   "cell_type": "code",
   "execution_count": null,
   "metadata": {},
   "outputs": [],
   "source": [
    "expr_logistic_map = mu * x * (1-x)"
   ]
  },
  {
   "cell_type": "markdown",
   "metadata": {},
   "source": [
    "Create composition maps for solving periodic points:"
   ]
  },
  {
   "cell_type": "code",
   "execution_count": null,
   "metadata": {},
   "outputs": [],
   "source": [
    "n = 5\n",
    "composed_maps = [expr_logistic_map,]\n",
    "for i in range(n-1):\n",
    "    new_map = expand(composed_maps[-1].subs(x, expr_logistic_map))\n",
    "    composed_maps.append(new_map)"
   ]
  },
  {
   "cell_type": "code",
   "execution_count": null,
   "metadata": {},
   "outputs": [],
   "source": [
    "for i, f in enumerate(composed_maps):\n",
    "    print(\">> {i}-th composed map:\".format(i=i))\n",
    "    display(f)"
   ]
  },
  {
   "cell_type": "markdown",
   "metadata": {},
   "source": [
    "Fix a length of periodical solutions of Logistc map:"
   ]
  },
  {
   "cell_type": "code",
   "execution_count": null,
   "metadata": {},
   "outputs": [],
   "source": [
    "T = 3\n",
    "a_composed_map = composed_maps[T]"
   ]
  },
  {
   "cell_type": "markdown",
   "metadata": {},
   "source": [
    "Collect all the coefficients of the fixpoint equation:"
   ]
  },
  {
   "cell_type": "code",
   "execution_count": null,
   "metadata": {},
   "outputs": [],
   "source": [
    "fixpoint_eq = expand(x - a_composed_map)\n",
    "coeffs_raw = poly(fixpoint_eq, x).all_coeffs()\n",
    "coeffs = [cancel(coeff/coeffs_raw[0]) for coeff in coeffs_raw]"
   ]
  },
  {
   "cell_type": "markdown",
   "metadata": {},
   "source": [
    "Convert the function: $mu$ to coeffs into a python function:"
   ]
  },
  {
   "cell_type": "code",
   "execution_count": null,
   "metadata": {},
   "outputs": [],
   "source": [
    "get_coeff = lambda mu_num: lambdify(mu, coeffs, modules=\"numpy\")(mu_num)"
   ]
  },
  {
   "cell_type": "markdown",
   "metadata": {},
   "source": [
    "Solve roots of fixpoint equation numerically given each values of $mu$:"
   ]
  },
  {
   "cell_type": "code",
   "execution_count": null,
   "metadata": {},
   "outputs": [],
   "source": [
    "fig = plt.figure()\n",
    "fig.clf()\n",
    "for mu_num in np.linspace(1, 5, 2**7):\n",
    "    roots = np.poly1d(get_coeff(mu_num)).r\n",
    "    roots = roots[np.isreal(roots)].real\n",
    "    plt.plot(mu_num * np.ones_like(roots), roots, \"k.\")"
   ]
  },
  {
   "cell_type": "markdown",
   "metadata": {},
   "source": [
    "See a longer period and a difficulty of evaluating fixpoints:"
   ]
  },
  {
   "cell_type": "code",
   "execution_count": null,
   "metadata": {},
   "outputs": [],
   "source": [
    "T = 4\n",
    "a_composed_map = composed_maps[T]"
   ]
  },
  {
   "cell_type": "markdown",
   "metadata": {},
   "source": [
    "Evaluate all the coeffs in a numerical way:"
   ]
  },
  {
   "cell_type": "code",
   "execution_count": null,
   "metadata": {},
   "outputs": [],
   "source": [
    "fixpoint_eq = expand(x - a_composed_map)\n",
    "coeffs_raw = poly(fixpoint_eq, x).all_coeffs()\n",
    "coeffs = [cancel(coeff/coeffs_raw[0]) for coeff in coeffs_raw]\n",
    "def evaluate_coeffs_numerically(mu_num):\n",
    "    coeffs_num = [coeff.evalf(subs={mu:mu_num}) for coeff in coeffs]\n",
    "    return coeffs_num"
   ]
  },
  {
   "cell_type": "code",
   "execution_count": null,
   "metadata": {},
   "outputs": [],
   "source": [
    "fig = plt.figure()\n",
    "fig.clf()\n",
    "for mu_num in np.linspace(1, 5, 2**7):\n",
    "    roots = np.poly1d(evaluate_coeffs_numerically(mu_num)).r\n",
    "    roots = roots[np.isreal(roots)].real\n",
    "    plt.plot(mu_num * np.ones_like(roots), roots, \"k.\")"
   ]
  }
 ],
 "metadata": {
  "kernelspec": {
   "display_name": "Python 3",
   "language": "python",
   "name": "python3"
  },
  "language_info": {
   "codemirror_mode": {
    "name": "ipython",
    "version": 3
   },
   "file_extension": ".py",
   "mimetype": "text/x-python",
   "name": "python",
   "nbconvert_exporter": "python",
   "pygments_lexer": "ipython3",
   "version": "3.7.5"
  }
 },
 "nbformat": 4,
 "nbformat_minor": 2
}

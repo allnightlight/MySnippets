{
 "cells": [
  {
   "cell_type": "code",
   "execution_count": null,
   "metadata": {},
   "outputs": [],
   "source": [
    "import time\n",
    "import timeit"
   ]
  },
  {
   "cell_type": "markdown",
   "metadata": {},
   "source": [
    "Implement tartget functions for measuring elapsed time"
   ]
  },
  {
   "cell_type": "code",
   "execution_count": null,
   "metadata": {},
   "outputs": [],
   "source": [
    "import numpy as np\n",
    "\n",
    "def generateTestData():\n",
    "    n, m = 2**7, 2**3\n",
    "    x = np.random.randn(n, m)\n",
    "    y = np.random.randn(n, m)\n",
    "    return x,y\n",
    "    \n",
    "def target1(x,y):\n",
    "    return x @ y.T\n",
    "\n",
    "def target2(x,y):\n",
    "    n,m = x.shape\n",
    "    z = np.zeros((n,n))\n",
    "    for i in range(n):\n",
    "        for j in range(n):\n",
    "            for k in range(m):\n",
    "                z[i,j] += x[i,k] * y[j,k]\n",
    "    return z"
   ]
  },
  {
   "cell_type": "markdown",
   "metadata": {},
   "source": [
    "According to [this document](https://docs.python.org/ja/3/library/time.html#time.perf_counter):\n",
    "+ time.perf_counter:\n",
    "    > Return the value (in fractional seconds) of a performance counter, i.e. a clock with the highest available resolution to measure a short duration. It does include time elapsed during sleep and is system-wide.\n",
    "+ time.process_time\n",
    "    > Return the value (in fractional seconds) of the sum of the system and user CPU time of the current process. It does not include time elapsed during sleep.\n",
    "\n",
    "Configure a timer to measure elapsed time:"
   ]
  },
  {
   "cell_type": "code",
   "execution_count": null,
   "metadata": {},
   "outputs": [],
   "source": [
    "# timer = time.perf_counter\n",
    "timer = time.process_time"
   ]
  },
  {
   "cell_type": "markdown",
   "metadata": {},
   "source": [
    "Measure elapsed time for target 1 by repeating the call 10 times:"
   ]
  },
  {
   "cell_type": "code",
   "execution_count": null,
   "metadata": {},
   "outputs": [],
   "source": [
    "n = 2**10\n",
    "timeit.timeit(\"target1(x,y);\"\n",
    "              , setup = \"x,y = generateTestData();\"\n",
    "              , number=n\n",
    "              , globals = globals()\n",
    "              , timer = timer)/n"
   ]
  },
  {
   "cell_type": "markdown",
   "metadata": {},
   "source": [
    "Then, do the same for target 2:"
   ]
  },
  {
   "cell_type": "code",
   "execution_count": null,
   "metadata": {},
   "outputs": [],
   "source": [
    "n = 2**3\n",
    "timeit.timeit(\"target2(x,y);\"\n",
    "              , setup = \"x,y = generateTestData();\"\n",
    "              , number=n\n",
    "              , globals = globals()\n",
    "              , timer = timer)/n"
   ]
  }
 ],
 "metadata": {
  "kernelspec": {
   "display_name": "Python 3",
   "language": "python",
   "name": "python3"
  },
  "language_info": {
   "codemirror_mode": {
    "name": "ipython",
    "version": 3
   },
   "file_extension": ".py",
   "mimetype": "text/x-python",
   "name": "python",
   "nbconvert_exporter": "python",
   "pygments_lexer": "ipython3",
   "version": "3.7.5"
  }
 },
 "nbformat": 4,
 "nbformat_minor": 2
}

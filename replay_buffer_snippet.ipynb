{
 "cells": [
  {
   "cell_type": "markdown",
   "metadata": {},
   "source": [
    "This note has snippets to use replay buffers of Tf-agents.\n",
    "* See [tutorials](https://github.com/tensorflow/agents/blob/master/docs/tutorials/5_replay_buffers_tutorial.ipynb)"
   ]
  },
  {
   "cell_type": "code",
   "execution_count": null,
   "metadata": {},
   "outputs": [],
   "source": [
    "import tensorflow as tf\n",
    "from tf_agents.replay_buffers import tf_uniform_replay_buffer"
   ]
  },
  {
   "cell_type": "code",
   "execution_count": null,
   "metadata": {},
   "outputs": [],
   "source": [
    "def createInstanceOfReplayBuffer(nPv = 3, nMv = 2, batch_size = 1, max_length=2**10):\n",
    "    data_spec =  (\n",
    "        tf.TensorSpec([nPv,], tf.float32, 'observation')\n",
    "        , tf.TensorSpec([nMv,], tf.float32, 'action')\n",
    "        , tf.TensorSpec([nPv,], tf.float32, 'next_observation')\n",
    "        , tf.TensorSpec([], tf.float32, 'reward')\n",
    "        )\n",
    "\n",
    "    replay_buffer = tf_uniform_replay_buffer.TFUniformReplayBuffer(\n",
    "        data_spec,\n",
    "        batch_size=batch_size,\n",
    "        max_length=max_length)\n",
    "    \n",
    "    return replay_buffer"
   ]
  },
  {
   "cell_type": "code",
   "execution_count": null,
   "metadata": {},
   "outputs": [],
   "source": [
    "def collectData(nMv = 2, nPv = 3, batch_size = 1, nSample = 2**7):\n",
    "    for _ in range(nSample):\n",
    "        observationBatch = tf.random.normal([batch_size, nPv])\n",
    "        actionBatch = tf.random.normal([batch_size, nMv])\n",
    "        nextObservationBatch = tf.random.normal([batch_size, nPv])\n",
    "        rewardBatch = tf.random.normal([batch_size,])\n",
    "        yield (observationBatch, actionBatch, nextObservationBatch, rewardBatch)"
   ]
  },
  {
   "cell_type": "markdown",
   "metadata": {},
   "source": [
    "create an instance of replay buffer:"
   ]
  },
  {
   "cell_type": "code",
   "execution_count": null,
   "metadata": {},
   "outputs": [],
   "source": [
    "replay_buffer = createInstanceOfReplayBuffer()"
   ]
  },
  {
   "cell_type": "markdown",
   "metadata": {},
   "source": [
    "add batches of items in the replay buffer:"
   ]
  },
  {
   "cell_type": "code",
   "execution_count": null,
   "metadata": {},
   "outputs": [],
   "source": [
    "replay_buffer.clear()\n",
    "for aBatch in collectData():\n",
    "    replay_buffer.add_batch(aBatch)"
   ]
  },
  {
   "cell_type": "markdown",
   "metadata": {},
   "source": [
    "read items from the buffer:"
   ]
  },
  {
   "cell_type": "code",
   "execution_count": null,
   "metadata": {},
   "outputs": [],
   "source": [
    "sample_batch_size = 2**5\n",
    "num_steps = 1\n",
    "dataset = replay_buffer.as_dataset(\n",
    "    sample_batch_size=sample_batch_size\n",
    "    , num_steps=num_steps)\n",
    "trajectories, _ = iter(dataset).__next__()"
   ]
  },
  {
   "cell_type": "code",
   "execution_count": null,
   "metadata": {},
   "outputs": [],
   "source": [
    "# >>for trj in trajectories:\n",
    "# >>    print(trj.shape)\n",
    "#\n",
    "# (32, 1, 3)\n",
    "# (32, 1, 2)\n",
    "# (32, 1, 3)\n",
    "# (32, 1)"
   ]
  }
 ],
 "metadata": {
  "kernelspec": {
   "display_name": "Python 3",
   "language": "python",
   "name": "python3"
  },
  "language_info": {
   "codemirror_mode": {
    "name": "ipython",
    "version": 3
   },
   "file_extension": ".py",
   "mimetype": "text/x-python",
   "name": "python",
   "nbconvert_exporter": "python",
   "pygments_lexer": "ipython3",
   "version": "3.7.5"
  }
 },
 "nbformat": 4,
 "nbformat_minor": 2
}
